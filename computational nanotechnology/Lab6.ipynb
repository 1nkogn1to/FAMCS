{
 "cells": [
  {
   "cell_type": "markdown",
   "id": "bb9db5c0-b45e-4f9e-b63c-bd8387f98175",
   "metadata": {},
   "source": [
    "Задание 1:\n",
    "Упростить выражение, используя функции из пакета sympy.\n",
    "$$\\frac{cos(2a) - cos(6a) + cos(10a) - cos(14a)}{sin(2a) + sin(6a) + sin(10a) + sin(14a)}$$\n",
    "Задание 2:\n",
    "Для заданного примера из книги Демидовича вычислить производную и\n",
    "упростить полученное выражение, используя функции из пакета sympy.\n",
    "$$ln(1 + sin(x)^{2}) - 2 \\cdot sin(x) \\cdot arctg(sin(x))$$\n",
    "Задание 3:\n",
    "Для заданных примеров из книги Демидовича вычислить интеграл и упростить\n",
    "полученное выражение, используя функции из пакета sympy.\n",
    "$$\\left(\\frac{x}{x^{2} - 3 \\cdot x + 2}\\right)^{2}$$"
   ]
  },
  {
   "cell_type": "code",
   "execution_count": 1,
   "id": "a0f0789a-6248-40de-8def-9db1a439a2dc",
   "metadata": {},
   "outputs": [
    {
     "name": "stdout",
     "output_type": "stream",
     "text": [
      "Задание 1:\n",
      "упрощённое выражение: tan(2*a)\n",
      "Задание 2:\n",
      "производная: -2*cos(x)*atan(sin(x)),\n",
      "упрощённая производная: -2*x + 2*x**3 - 4*x**5/3 + O(x**6)\n",
      "Задание 3:\n",
      "первообразная: (6 - 5*x)/(x**2 - 3*x + 2) - 4*log(x - 2) + 4*log(x - 1),\n",
      "упрощённая первообразная - 3 - 4*log(2) + x**3/12 + 3*x**4/16 + 23*x**5/80 + O(x**6)\n"
     ]
    }
   ],
   "source": [
    "from sympy import *\n",
    "\n",
    "\n",
    "def task1():\n",
    "    a = symbols('a')\n",
    "\n",
    "    expr = (cos(2*a) - cos(6*a) + cos(10*a) - cos(14*a)) / (sin(2*a) + sin(6*a) + sin(10*a) + sin(14*a))\n",
    "\n",
    "    simplified = simplify(expand_trig(expr))\n",
    "\n",
    "    print(f\"Задание 1:\\nупрощённое выражение: {simplified}\")\n",
    "\n",
    "\n",
    "def task2():\n",
    "    x = symbols('x')\n",
    "\n",
    "    expr = log(1 + sin(x)**2) - 2 * sin(x) * atan(sin(x))\n",
    "\n",
    "    d_expr = diff(expr, x)\n",
    "    simplified_derivative = series(d_expr)\n",
    "    print(f\"Задание 2:\\nпроизводная: {d_expr},\\nупрощённая производная: {simplified_derivative}\")\n",
    "\n",
    "\n",
    "def task3():\n",
    "    x = symbols('x')\n",
    "\n",
    "    expr = (x / (x**2 - 3 * x + 2))**2\n",
    "\n",
    "    res = integrate(expr, x)\n",
    "    simplified = series(res)\n",
    "    print(f\"Задание 3:\\nпервообразная: {res},\\nупрощённая первообразная - {simplified}\")\n",
    "\n",
    "\n",
    "def main():\n",
    "    task1()\n",
    "    task2()\n",
    "    task3()\n",
    "\n",
    "if __name__ == \"__main__\":\n",
    "    main()"
   ]
  },
  {
   "cell_type": "code",
   "execution_count": null,
   "id": "e2d3b9eb-bd68-49d4-a638-3056d4334845",
   "metadata": {},
   "outputs": [],
   "source": []
  }
 ],
 "metadata": {
  "kernelspec": {
   "display_name": "Python 3 (ipykernel)",
   "language": "python",
   "name": "python3"
  },
  "language_info": {
   "codemirror_mode": {
    "name": "ipython",
    "version": 3
   },
   "file_extension": ".py",
   "mimetype": "text/x-python",
   "name": "python",
   "nbconvert_exporter": "python",
   "pygments_lexer": "ipython3",
   "version": "3.10.12"
  }
 },
 "nbformat": 4,
 "nbformat_minor": 5
}
