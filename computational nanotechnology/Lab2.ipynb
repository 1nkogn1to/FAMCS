{
 "cells": [
  {
   "cell_type": "markdown",
   "id": "43eca015-e96a-4b24-88fd-937cf4264966",
   "metadata": {},
   "source": [
    "Сравнить скорость решения системы линейных алгебраических\n",
    "уравнений с трехдиагональной матрицей с помощью следующих методов (использовать\n",
    "разреженные матрицы везде, где это возможно). Сделать вывод об эффективности\n",
    "методов.\n",
    "Методы scipy.sparse.linalg.bicg, scipy.linalg.solve_banded"
   ]
  },
  {
   "cell_type": "code",
   "execution_count": 3,
   "id": "089d6ddb-6903-420f-a10a-85bf6aafd29d",
   "metadata": {},
   "outputs": [
    {
     "name": "stdout",
     "output_type": "stream",
     "text": [
      "Решение с помощью solve_banded: [2497.33893885 4993.80385209 7489.71803364 ... 7470.11615339 4980.34772491\n",
      " 2490.3359039 ], время выполнения: 0.0\n",
      "Решение с помощью bicg: [2497.33893688 4993.80384806 7489.7180284  ... 7470.11613604 4980.34770694\n",
      " 2490.33589322], время выполнения: 1.749636173248291\n",
      "Норма разности этих двух решений: 0.004840363214956587\n"
     ]
    }
   ],
   "source": [
    "import numpy as np\n",
    "from scipy.linalg import solve_banded\n",
    "from scipy.sparse.linalg import bicg\n",
    "from scipy.sparse import diags\n",
    "from time import time\n",
    "\n",
    "def solve_systems(n):\n",
    "    # Создание матрицы для solve_banded\n",
    "    ab = np.zeros((3, n))\n",
    "    ab[0, 1:] = -1  # Верхняя диагональ\n",
    "    ab[1, :] = 2  # Главная диагональ\n",
    "    ab[2, :-1] = -1  # Нижняя диагональ\n",
    "\n",
    "    # Создание матрицы для bicg\n",
    "    diagonals = [-1*np.ones(n-1), 2*np.ones(n), -1*np.ones(n-1)]\n",
    "    A_bicg = diags(diagonals, [-1, 0, 1])\n",
    "\n",
    "    # Генерация вектора b\n",
    "    b = np.random.rand(n)\n",
    "\n",
    "    # Решение системы с помощью solve_banded и bicg\n",
    "    t1 = time()\n",
    "    x_banded = solve_banded((1, 1), ab, b)\n",
    "    t2 = time()\n",
    "    x_bicg, info = bicg(A_bicg, b)\n",
    "    t3 = time()\n",
    "\n",
    "    print(f\"Решение с помощью solve_banded: {x_banded}, время выполнения: {t2 - t1}\")\n",
    "    print(f\"Решение с помощью bicg: {x_bicg}, время выполнения: {t3 - t2}\")\n",
    "    n = np.linalg.norm(x_banded - x_bicg)\n",
    "    print(f\"Норма разности этих двух решений: {n}\")\n",
    "\n",
    "def main():\n",
    "    n = 10000\n",
    "    solve_systems(n)\n",
    "\n",
    "if __name__ == \"__main__\":\n",
    "    main()\n"
   ]
  },
  {
   "cell_type": "code",
   "execution_count": null,
   "id": "bfb655f8-8def-49f8-b5f9-4e2705cb5590",
   "metadata": {},
   "outputs": [],
   "source": []
  }
 ],
 "metadata": {
  "kernelspec": {
   "display_name": "Python 3 (ipykernel)",
   "language": "python",
   "name": "python3"
  },
  "language_info": {
   "codemirror_mode": {
    "name": "ipython",
    "version": 3
   },
   "file_extension": ".py",
   "mimetype": "text/x-python",
   "name": "python",
   "nbconvert_exporter": "python",
   "pygments_lexer": "ipython3",
   "version": "3.11.5"
  }
 },
 "nbformat": 4,
 "nbformat_minor": 5
}
