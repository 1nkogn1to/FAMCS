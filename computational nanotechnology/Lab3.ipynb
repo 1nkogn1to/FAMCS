{
 "cells": [
  {
   "cell_type": "markdown",
   "id": "a163ca50-343a-4e18-bcb0-bd4051211a97",
   "metadata": {},
   "source": [
    "Задание: Для функции f(x) найти точку локального минимума, пользуясь\n",
    "указанными методами. Сравнить эффективность методов (например, количество\n",
    "вычислений функции или производных для достижения заданной точности). Если\n",
    "локальных минимумов несколько, достаточно найти только один из них. Первоначальный\n",
    "отрезок локализации минимума можно находить с помощью метода равномерного поиска\n",
    "или графического метода. Для контроля правильности реализации методов, используйте\n",
    "встроенные функции из библиотеки scipy.\n",
    "Методы:\n",
    "Метод Фибоначчи,\n",
    "Метод Ньютона."
   ]
  },
  {
   "cell_type": "code",
   "execution_count": 1,
   "id": "30d11a8c-52a9-4bf5-a339-8ebe54b63a03",
   "metadata": {},
   "outputs": [
    {
     "name": "stdout",
     "output_type": "stream",
     "text": [
      "FibonucciMethod: Solution - -1.0000000143289425, number of iterations - 37\n",
      "NewtonMethod: Solution - -1.0, number of iterations - 6\n",
      "ScipyMethod: Solution - -1.0000002196540423\n"
     ]
    }
   ],
   "source": [
    "import numpy as np\n",
    "import math as m\n",
    "from scipy.optimize import minimize_scalar\n",
    "\n",
    "\n",
    "def Fibonucci_method(eps = 1e-7):\n",
    "    f = lambda x: x * np.exp(-x**2 / 2)\n",
    "    a, b = -1.7, -0.1\n",
    "    l = 1\n",
    "    num = m.ceil((b - a) / (l * eps))\n",
    "    fib = [1, 1]\n",
    "    while not num < fib[-1]:\n",
    "        fib.append(fib[-1] + fib[-2])\n",
    "\n",
    "    n = len(fib)\n",
    "    nm = n\n",
    "    n -= 1\n",
    "    \n",
    "    x1 = a + (b - a) * fib[n - 2] / fib[n]\n",
    "    x2 = a + (b - a) * fib[n - 1] / fib[n]\n",
    "\n",
    "    while n > 1:\n",
    "        if f(x1) < f(x2):\n",
    "            b = x2\n",
    "            x2 = x1\n",
    "            x1 = a + (fib[-3] / fib[-1]) * (b - a)\n",
    "        else:\n",
    "            a = x1\n",
    "            x1 = x2\n",
    "            x2 = a + (fib[-3] / fib[-2]) * (b - a)\n",
    "        fib = fib[:-1]\n",
    "        n -= 1\n",
    "    answ = (a + b) / 2\n",
    "    print(f\"FibonucciMethod: Solution - {answ}, number of iterations - {nm}\")\n",
    "\n",
    "\n",
    "def Newton_method(eps = 1e-7):\n",
    "    df = lambda x: np.exp(-x**2/2) * (1 - x**2)\n",
    "    ddf = lambda x: np.exp(-x**2/2) * (-3*x + x**3)\n",
    "\n",
    "    x0 = -0.3\n",
    "    counter = 0\n",
    "\n",
    "    for _ in range(100):\n",
    "        x1 = x0 - df(x0) / ddf(x0)\n",
    "        counter += 1\n",
    "\n",
    "        if abs(x1 - x0) < eps:\n",
    "            x0 = x1\n",
    "            break\n",
    "\n",
    "        x0 = x1\n",
    "\n",
    "    print(f\"NewtonMethod: Solution - {x0}, number of iterations - {counter}\")\n",
    "\n",
    "\n",
    "def Scipy_method():\n",
    "    f = lambda x: x * np.exp(-x**2 / 2)\n",
    "    answ = minimize_scalar(f, bounds=(-1.7, -0.1), method='bounded')\n",
    "    print(f\"ScipyMethod: Solution - {answ.x}\")\n",
    "\n",
    "def main():\n",
    "    Fibonucci_method()\n",
    "    Newton_method()\n",
    "    Scipy_method()\n",
    "    \n",
    "if __name__ == \"__main__\":\n",
    "    main()"
   ]
  },
  {
   "cell_type": "code",
   "execution_count": null,
   "id": "f552f1ee-d736-4980-9c37-fcbf05887827",
   "metadata": {},
   "outputs": [],
   "source": []
  },
  {
   "cell_type": "code",
   "execution_count": null,
   "id": "ed4fb469-e99e-493a-8c8a-582e7a55eb32",
   "metadata": {},
   "outputs": [],
   "source": []
  }
 ],
 "metadata": {
  "kernelspec": {
   "display_name": "Python 3 (ipykernel)",
   "language": "python",
   "name": "python3"
  },
  "language_info": {
   "codemirror_mode": {
    "name": "ipython",
    "version": 3
   },
   "file_extension": ".py",
   "mimetype": "text/x-python",
   "name": "python",
   "nbconvert_exporter": "python",
   "pygments_lexer": "ipython3",
   "version": "3.10.12"
  }
 },
 "nbformat": 4,
 "nbformat_minor": 5
}
