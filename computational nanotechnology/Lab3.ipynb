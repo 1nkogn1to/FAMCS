{
 "cells": [
  {
   "cell_type": "markdown",
   "id": "54172075-553f-451f-a587-90e72e9ef853",
   "metadata": {},
   "source": [
    "Задание: Для функции f(x) найти точку локального минимума, пользуясь\r\n",
    "указанными методами. Сравнить эффективность методов (например, количество\r\n",
    "вычислений функции или производных для достижения заданной точности). Если\r\n",
    "локальных минимумов несколько, достаточно найти только один из них. Первоначальный\r\n",
    "отрезок локализации минимума можно находить с помощью метода равномерного поиска\r\n",
    "или графического метода. Для контроля правильности реализации методов, используйте\r\n",
    "встроенные функции из библиотеки \n",
    "Методы:\n",
    "Метод Фибоначчи\n",
    "Метод Ньютонаscipy."
   ]
  },
  {
   "cell_type": "code",
   "execution_count": 1,
   "id": "30d11a8c-52a9-4bf5-a339-8ebe54b63a03",
   "metadata": {},
   "outputs": [
    {
     "ename": "UnboundLocalError",
     "evalue": "local variable 'm' referenced before assignment",
     "output_type": "error",
     "traceback": [
      "\u001b[0;31m---------------------------------------------------------------------------\u001b[0m",
      "\u001b[0;31mUnboundLocalError\u001b[0m                         Traceback (most recent call last)",
      "Cell \u001b[0;32mIn[1], line 68\u001b[0m\n\u001b[1;32m     65\u001b[0m     Scipy_method()\n\u001b[1;32m     67\u001b[0m \u001b[38;5;28;01mif\u001b[39;00m \u001b[38;5;18m__name__\u001b[39m \u001b[38;5;241m==\u001b[39m \u001b[38;5;124m\"\u001b[39m\u001b[38;5;124m__main__\u001b[39m\u001b[38;5;124m\"\u001b[39m:\n\u001b[0;32m---> 68\u001b[0m     \u001b[43mmain\u001b[49m\u001b[43m(\u001b[49m\u001b[43m)\u001b[49m\n",
      "Cell \u001b[0;32mIn[1], line 63\u001b[0m, in \u001b[0;36mmain\u001b[0;34m()\u001b[0m\n\u001b[1;32m     62\u001b[0m \u001b[38;5;28;01mdef\u001b[39;00m \u001b[38;5;21mmain\u001b[39m():\n\u001b[0;32m---> 63\u001b[0m     \u001b[43mFibonucci_method\u001b[49m\u001b[43m(\u001b[49m\u001b[43m)\u001b[49m\n\u001b[1;32m     64\u001b[0m     Newton_method()\n\u001b[1;32m     65\u001b[0m     Scipy_method()\n",
      "Cell \u001b[0;32mIn[1], line 10\u001b[0m, in \u001b[0;36mFibonucci_method\u001b[0;34m(eps)\u001b[0m\n\u001b[1;32m      8\u001b[0m a, b \u001b[38;5;241m=\u001b[39m \u001b[38;5;241m-\u001b[39m\u001b[38;5;241m1.7\u001b[39m, \u001b[38;5;241m-\u001b[39m\u001b[38;5;241m0.1\u001b[39m\n\u001b[1;32m      9\u001b[0m l \u001b[38;5;241m=\u001b[39m \u001b[38;5;241m1\u001b[39m\n\u001b[0;32m---> 10\u001b[0m num \u001b[38;5;241m=\u001b[39m \u001b[43mm\u001b[49m\u001b[38;5;241m.\u001b[39mceil((b \u001b[38;5;241m-\u001b[39m a) \u001b[38;5;241m/\u001b[39m (l \u001b[38;5;241m*\u001b[39m eps))\n\u001b[1;32m     11\u001b[0m fib \u001b[38;5;241m=\u001b[39m [\u001b[38;5;241m1\u001b[39m, \u001b[38;5;241m1\u001b[39m]\n\u001b[1;32m     12\u001b[0m \u001b[38;5;28;01mwhile\u001b[39;00m \u001b[38;5;129;01mnot\u001b[39;00m num \u001b[38;5;241m<\u001b[39m fib[\u001b[38;5;241m-\u001b[39m\u001b[38;5;241m1\u001b[39m]:\n",
      "\u001b[0;31mUnboundLocalError\u001b[0m: local variable 'm' referenced before assignment"
     ]
    }
   ],
   "source": [
    "import numpy as np\n",
    "import math as m\n",
    "from scipy.optimize import minimize_scalar\n",
    "\n",
    "\n",
    "def Fibonucci_method(eps = 1e-7):\n",
    "    f = lambda x: x * np.exp(-x**2 / 2)\n",
    "    a, b = -1.7, -0.1\n",
    "    l = 1\n",
    "    num = m.ceil((b - a) / (l * eps))\n",
    "    fib = [1, 1]\n",
    "    while not num < fib[-1]:\n",
    "        fib.append(fib[-1] + fib[-2])\n",
    "\n",
    "    n = len(fib)\n",
    "    nm = n\n",
    "    n -= 1\n",
    "    \n",
    "    x1 = a + (b - a) * fib[n - 2] / fib[n]\n",
    "    x2 = a + (b - a) * fib[n - 1] / fib[n]\n",
    "\n",
    "    while n > 1:\n",
    "        if f(x1) < f(x2):\n",
    "            b = x2\n",
    "            x2 = x1\n",
    "            x1 = a + (fib[-3] / fib[-1]) * (b - a)\n",
    "        else:\n",
    "            a = x1\n",
    "            x1 = x2\n",
    "            x2 = a + (fib[-3] / fib[-2]) * (b - a)\n",
    "        fib = fib[:-1]\n",
    "        n -= 1\n",
    "    answ = (a + b) / 2\n",
    "    print(f\"FibonucciMethod: Solution - {answ}, number of iterations - {nm}\")\n",
    "\n",
    "\n",
    "def Newton_method(eps = 1e-7):\n",
    "    df = lambda x: np.exp(-x**2/2) * (1 - x**2)\n",
    "    ddf = lambda x: np.exp(-x**2/2) * (-3*x + x**3)\n",
    "\n",
    "    x0 = -0.3\n",
    "    counter = 0\n",
    "\n",
    "    for _ in range(100):\n",
    "        x1 = x0 - df(x0) / ddf(x0)\n",
    "        counter += 1\n",
    "\n",
    "        if abs(x1 - x0) < eps:\n",
    "            x0 = x1\n",
    "            break\n",
    "\n",
    "        x0 = x1\n",
    "\n",
    "    print(f\"NewtonMethod: Solution - {x0}, number of iterations - {counter}\")\n",
    "\n",
    "\n",
    "def Scipy_method():\n",
    "    f = lambda x: x * np.exp(-x**2 / 2)\n",
    "    answ = minimize_scalar(f, bounds=(-1.7, -0.1), method='bounded')\n",
    "    print(f\"ScipyMethod: Solution - {answ.x}\")\n",
    "\n",
    "def main():\n",
    "    Fibonucci_method()\n",
    "    Newton_method()\n",
    "    Scipy_method()\n",
    "    \n",
    "if __name__ == \"__main__\":\n",
    "    main()"
   ]
  },
  {
   "cell_type": "code",
   "execution_count": null,
   "id": "f552f1ee-d736-4980-9c37-fcbf05887827",
   "metadata": {},
   "outputs": [],
   "source": []
  },
  {
   "cell_type": "code",
   "execution_count": null,
   "id": "ed4fb469-e99e-493a-8c8a-582e7a55eb32",
   "metadata": {},
   "outputs": [],
   "source": []
  }
 ],
 "metadata": {
  "kernelspec": {
   "display_name": "Python 3 (ipykernel)",
   "language": "python",
   "name": "python3"
  },
  "language_info": {
   "codemirror_mode": {
    "name": "ipython",
    "version": 3
   },
   "file_extension": ".py",
   "mimetype": "text/x-python",
   "name": "python",
   "nbconvert_exporter": "python",
   "pygments_lexer": "ipython3",
   "version": "3.10.12"
  }
 },
 "nbformat": 4,
 "nbformat_minor": 5
}
