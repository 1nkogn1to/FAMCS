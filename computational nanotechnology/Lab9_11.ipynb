{
 "cells": [
  {
   "cell_type": "markdown",
   "id": "e4a222e9-1318-494e-85c2-99f300b2328e",
   "metadata": {},
   "source": [
    "Задание:\n",
    "1) Записать постановку задачи для расчета потенциала электростатического поля в\n",
    "   описанной структуре с учетом симметрии (должна получиться одномерная задача).\n",
    "2) Сформулировать слабую форму описанной задачи.\n",
    "3) Написать программу, реализующую метод конечных элементов для описанной\n",
    "задачи. Получить аналитическое решение, сравнить с численным."
   ]
  },
  {
   "cell_type": "markdown",
   "id": "ebe3cc1a-497f-4ccf-b531-e085a9873caf",
   "metadata": {},
   "source": [
    "Описание модели:\n",
    "\n",
    "Сферически симметричная двухслойная квантовая точка: в центре точки\n",
    "находится точечный заряд q (можете задать произвольно), ее окружает шар радиуса R с\n",
    "диэлектрической проницаемостью $\\epsilon_1$, который в свою очередь находится в шаре радиуса\n",
    "2R с диэлектрической проницаемостью $\\epsilon_2$. Центры шаров и точка расположения\n",
    "элементарного заряда совпадают. Поверхность шара радиуса 2R заземлена (т.е. потенциал\n",
    "на его поверхности равен нулю)"
   ]
  },
  {
   "cell_type": "markdown",
   "id": "7ed09001-1a3d-44f0-a458-9b1293b40880",
   "metadata": {},
   "source": [
    "Постановка задачи в сферических координатах:\n",
    "1) Два уравнения для двух сред\n",
    "$$\\frac{1}{r^2}\\frac{\\partial}{\\partial r}\\left(r^2\\frac{\\partial u}{\\partial r}\\right)=-\\frac{\\rho(r)}{\\epsilon_0\\epsilon_1},  0<r<R$$\n",
    "$$\\frac{1}{r^2}\\frac{\\partial}{\\partial r}\\left(r^2\\frac{\\partial u}{\\partial r}\\right)=-\\frac{\\rho(r)}{\\epsilon_0\\epsilon_2},  R<r<2R$$\n",
    "где $\\rho(r) = \\frac{q\\delta(r)}{2\\pi r}$\n",
    "2) Условие на производную для границы между средами с проницаемостью $\\epsilon_1$ и $\\epsilon_2$\n",
    "$$\\epsilon_1\\frac{du}{dr}|_{r = R-0} = \\epsilon_2\\frac{du}{dr}|_{r = R+0}$$\n",
    "3) Условия на функцию на границах сред\n",
    "$$u|_{r = R - 0} = u|_{r = R + 0}$$\n",
    "$$u|_{r = 2R - 0} = 0$$"
   ]
  },
  {
   "cell_type": "markdown",
   "id": "feb2e7eb-1d37-424e-b23d-4c78c6a02140",
   "metadata": {},
   "source": [
    "Поскольку задача сферически симметричная и функция зависит по сути только от радиуса получим следующее:\n",
    "1) Два уравнения\n",
    "$$\\frac{1}{r^2}(r^2 u')'=-\\frac{\\rho(r)}{\\epsilon_0\\epsilon_1},  0<r<R$$\n",
    "$$\\frac{1}{r^2}(r^2 u')'=-\\frac{\\rho(r)}{\\epsilon_0\\epsilon_2},  R<r<2R$$\n",
    "где $\\rho(r) = \\frac{q\\delta(r)}{2\\pi r}$\n",
    "2) Условие на производную\n",
    "$$\\epsilon_1\\frac{du}{dr}|_{r = R-0} = \\epsilon_2\\frac{du}{dr}|_{r = R+0}$$\n",
    "3) Условия на функцию\n",
    "$$u|_{r = R - 0} = u|_{r = R + 0}$$\n",
    "$$u|_{r = 2R - 0} = 0$$"
   ]
  },
  {
   "cell_type": "markdown",
   "id": "5e88936c-2183-4404-8458-ff04a6669e94",
   "metadata": {},
   "source": [
    "Сформулируем слабую постановку задачи."
   ]
  },
  {
   "cell_type": "markdown",
   "id": "67b6d3c1-df42-4f46-a302-b54beb56097f",
   "metadata": {},
   "source": [
    "Введём некоторую функцию $v_1(r)$, которая удовлетворяет следующим условиям $$ v_1(0) = v_1(R) = 0 $$\n",
    "домножим на неё левую и правую часть первого уравнения и проинтегрируем по нашему отрезку, получим\n",
    "$$\\int_0^R\\frac{1}{r^2}(r^2 u')'v_1dr = -\\frac{1}{2\\pi\\epsilon_0\\epsilon_1}\\int_0^R\\frac{\\delta v_1}{r}dr$$\n",
    "Распишем функцию плотности и возьмём обе стороны равенства по частям\n",
    "$$\\frac{1}{r^2}v_1u'r^2\\left|_0^R-\\int_0^R\\left(u'v_1'-\\frac{2}{r}v_1\\right)dr = -\\frac{1}{2\\pi\\epsilon_0\\epsilon_1}\\left(\\frac{v_1}{2r}\\right|_0^R-\\int_0^R\\frac{v_1'r - v_1}{2r^2}dr\\right)$$\n",
    "Слагаемые без интеграла обнулятся поскольку мы специально так выбрали функцию $v_1$ получим\n",
    "$$-\\int_0^R\\left(u'v_1'-\\frac{2}{r}v_1\\right)dr = \\frac{1}{2\\pi\\epsilon_0\\epsilon_1}\\int_0^R\\frac{v_1'r - v_1}{2r^2}dr$$\n",
    "Для второго уравнения на отрезке $[R; 2R]$ проделаем то же самое и получим"
   ]
  },
  {
   "cell_type": "code",
   "execution_count": null,
   "id": "035a4629-c92c-4fec-a675-c5673a4dc6f2",
   "metadata": {},
   "outputs": [],
   "source": []
  }
 ],
 "metadata": {
  "kernelspec": {
   "display_name": "Python 3 (ipykernel)",
   "language": "python",
   "name": "python3"
  },
  "language_info": {
   "codemirror_mode": {
    "name": "ipython",
    "version": 3
   },
   "file_extension": ".py",
   "mimetype": "text/x-python",
   "name": "python",
   "nbconvert_exporter": "python",
   "pygments_lexer": "ipython3",
   "version": "3.10.12"
  }
 },
 "nbformat": 4,
 "nbformat_minor": 5
}
