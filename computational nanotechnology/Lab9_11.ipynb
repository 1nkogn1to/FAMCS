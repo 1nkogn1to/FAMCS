{
 "cells": [
  {
   "cell_type": "markdown",
   "id": "e4a222e9-1318-494e-85c2-99f300b2328e",
   "metadata": {},
   "source": [
    "Задание:\n",
    "1) Записать постановку задачи для расчета потенциала электростатического поля в\n",
    "   описанной структуре с учетом симметрии (должна получиться одномерная задача).\n",
    "2) Сформулировать слабую форму описанной задачи.\n",
    "3) Написать программу, реализующую метод конечных элементов для описанной\n",
    "задачи. Получить аналитическое решение, сравнить с численным."
   ]
  },
  {
   "cell_type": "markdown",
   "id": "ebe3cc1a-497f-4ccf-b531-e085a9873caf",
   "metadata": {},
   "source": [
    "Описание модели:\n",
    "\n",
    "Сферически симметричная двухслойная квантовая точка: в центре точки\n",
    "находится точечный заряд q (можете задать произвольно), ее окружает шар радиуса R с\n",
    "диэлектрической проницаемостью $\\epsilon_1$, который в свою очередь находится в шаре радиуса\n",
    "2R с диэлектрической проницаемостью $\\epsilon_2$. Центры шаров и точка расположения\n",
    "элементарного заряда совпадают. Поверхность шара радиуса 2R заземлена (т.е. потенциал\n",
    "на его поверхности равен нулю)"
   ]
  },
  {
   "cell_type": "markdown",
   "id": "7ed09001-1a3d-44f0-a458-9b1293b40880",
   "metadata": {},
   "source": [
    "Постановка задачи в сферических координатах:\n",
    "1) Два уравнения для двух сред\n",
    "$$\\frac{1}{r^2}\\frac{\\partial}{\\partial x}\\left(r^2\\frac{\\partial u}{\\partial x}\\right)=-\\frac{\\rho(r)}{\\epsilon_0\\epsilon_1},  0<r<R$$\n",
    "$$\\frac{1}{r^2}\\frac{\\partial}{\\partial x}\\left(r^2\\frac{\\partial u}{\\partial x}\\right)=-\\frac{\\rho(r)}{\\epsilon_0\\epsilon_2},  R<r<2R$$\n",
    "где $\\rho(r) = \\frac{q\\delta(r)}{2\\pi r}$\n",
    "2) Условие на производную для границы между средами с проницаемостью $\\epsilon_1$ и $\\epsilon_2$\n",
    "$$\\epsilon_1\\frac{du}{dr}|_{r = R-0} = \\epsilon_2\\frac{du}{dr}|_{r = R+0}$$\n",
    "3) Условия на функцию на границах сред\n",
    "$$u|_{r = R - 0} = u|_{r = R + 0}$$\n",
    "$$u|_{r = 2R - 0} = 0$$"
   ]
  },
  {
   "cell_type": "code",
   "execution_count": null,
   "id": "c93f275b-a45e-41a6-9ea9-9aece3d31312",
   "metadata": {},
   "outputs": [],
   "source": []
  }
 ],
 "metadata": {
  "kernelspec": {
   "display_name": "Python 3 (ipykernel)",
   "language": "python",
   "name": "python3"
  },
  "language_info": {
   "codemirror_mode": {
    "name": "ipython",
    "version": 3
   },
   "file_extension": ".py",
   "mimetype": "text/x-python",
   "name": "python",
   "nbconvert_exporter": "python",
   "pygments_lexer": "ipython3",
   "version": "3.10.12"
  }
 },
 "nbformat": 4,
 "nbformat_minor": 5
}
